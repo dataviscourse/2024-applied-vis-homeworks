{
 "cells": [
  {
   "cell_type": "markdown",
   "metadata": {},
   "source": [
    "# Applied Data Visualization – Homework 1\n",
    "*https://www.dataviscourse.net/2024-applied/*"
   ]
  },
  {
   "cell_type": "markdown",
   "metadata": {},
   "source": [
    "In this homework, you will review and visualize data from the Utah Avalanche Center https://utahavalanchecenter.org/observations"
   ]
  },
  {
   "cell_type": "markdown",
   "metadata": {},
   "source": [
    "# Your info\n",
    "\n",
    "*First name:*\n",
    "\n",
    "*Last name:*\n",
    "\n",
    "*Email:*\n",
    "\n",
    "*UID*"
   ]
  },
  {
   "cell_type": "code",
   "execution_count": 1,
   "metadata": {},
   "outputs": [],
   "source": [
    "# the standard input statements\n",
    "import pandas as pd\n",
    "import matplotlib.pyplot as plt\n",
    "plt.style.use('ggplot')\n",
    "%matplotlib inline"
   ]
  },
  {
   "attachments": {},
   "cell_type": "markdown",
   "metadata": {},
   "source": [
    "## Part 1: Load in data\n",
    "\n",
    "Load in the provided file `avalanches.csv` using the Pandas `read_csv` function.\n",
    "\n",
    "Print a couple of rows to get a sense of the data."
   ]
  },
  {
   "cell_type": "code",
   "execution_count": 2,
   "metadata": {},
   "outputs": [],
   "source": [
    "# your code here\n"
   ]
  },
  {
   "attachments": {},
   "cell_type": "markdown",
   "metadata": {},
   "source": [
    "## Part 2: Clean dates\n",
    "\n",
    "You may notice that the dates of avalanches are provided in the `Date` column, however they are encoded as a string.\n",
    "\n",
    "Additionally, we may want to analyze avalanches by year and by month, so let's create separate columns for those.\n",
    "\n",
    "1. Convert the Date column to datetime format\n",
    "2. Create a new column Year\n",
    "3. Create a new column Month"
   ]
  },
  {
   "cell_type": "code",
   "execution_count": 3,
   "metadata": {},
   "outputs": [],
   "source": [
    "# your code here"
   ]
  },
  {
   "attachments": {},
   "cell_type": "markdown",
   "metadata": {},
   "source": [
    "## Part 3: Cleaning up Numerical Columns\n",
    "\n",
    "You may also notice that numerical columns (`Elevation`, `Depth`, `Width`, `Vertical`) are encoded as strings. Moreover, some are in feet ('), while others are in inches (\")."
   ]
  },
  {
   "attachments": {},
   "cell_type": "markdown",
   "metadata": {},
   "source": [
    "First, create a new column Elevation_Feet, with the Elevation column converted to a number, in feet"
   ]
  },
  {
   "cell_type": "code",
   "execution_count": 4,
   "metadata": {},
   "outputs": [],
   "source": [
    "# your code here"
   ]
  },
  {
   "attachments": {},
   "cell_type": "markdown",
   "metadata": {},
   "source": [
    "Then, create three new columns in inches: \n",
    "   1. Depth_Inches, with the Depth column converted to a number, in inches\n",
    "   2. Width_Inches, with the Width column converted to a number, in inches\n",
    "   3. Vertical_Inches, with the Vertical column converted to a number, in inches\n",
    "\n",
    "We recommend that you write a function that converts the string into a number and then use that function to clean up the columns. Note that you will also have to handle undefined (NaN) values."
   ]
  },
  {
   "cell_type": "code",
   "execution_count": 5,
   "metadata": {},
   "outputs": [],
   "source": [
    "# your code here\n"
   ]
  },
  {
   "cell_type": "markdown",
   "metadata": {},
   "source": [
    "## Part 4: Plotting"
   ]
  },
  {
   "attachments": {},
   "cell_type": "markdown",
   "metadata": {},
   "source": [
    "4.1: Plot a histogram of the Depth_Inches variable using the built-in pandas plotting function. "
   ]
  },
  {
   "cell_type": "code",
   "execution_count": null,
   "metadata": {},
   "outputs": [],
   "source": [
    "# your code here\n"
   ]
  },
  {
   "attachments": {},
   "cell_type": "markdown",
   "metadata": {},
   "source": [
    "4.2: Then plot a histogram of the elevation in feet variable."
   ]
  },
  {
   "cell_type": "code",
   "execution_count": null,
   "metadata": {},
   "outputs": [],
   "source": [
    "# your code here\n"
   ]
  },
  {
   "attachments": {},
   "cell_type": "markdown",
   "metadata": {},
   "source": [
    "4.3: Next, plot a bar chart of the number of avalances by year\n",
    "(Hint: You may find it useful to create a separate data frame, grouped by year.)"
   ]
  },
  {
   "cell_type": "code",
   "execution_count": null,
   "metadata": {},
   "outputs": [],
   "source": [
    "# your code here\n"
   ]
  },
  {
   "attachments": {},
   "cell_type": "markdown",
   "metadata": {},
   "source": [
    "4.4: Once you have done that, you will see that the Utah Avalanche Center does not have complete data for earlier years. Let's filter them out to see the barchart more clearly"
   ]
  },
  {
   "cell_type": "code",
   "execution_count": null,
   "metadata": {},
   "outputs": [],
   "source": [
    "# your code here"
   ]
  },
  {
   "attachments": {},
   "cell_type": "markdown",
   "metadata": {},
   "source": [
    "4.5: Create a barchart of the number of avalanches per month\n",
    "(Hint: You may find it useful to create a separate data frame, grouped by month.)"
   ]
  },
  {
   "cell_type": "code",
   "execution_count": null,
   "metadata": {},
   "outputs": [],
   "source": [
    "# your code here"
   ]
  },
  {
   "attachments": {},
   "cell_type": "markdown",
   "metadata": {},
   "source": [
    "4.6: Create a boxplot of the elevation of avalances by month"
   ]
  },
  {
   "cell_type": "code",
   "execution_count": null,
   "metadata": {},
   "outputs": [],
   "source": [
    "# your code here \n"
   ]
  },
  {
   "attachments": {},
   "cell_type": "markdown",
   "metadata": {},
   "source": [
    "4.6:  Create a horizontal barchart of the number of avalanches by trigger\n",
    "\n",
    "(Hint: You may find it useful to create a separate data frame, grouped by trigger.)"
   ]
  },
  {
   "cell_type": "code",
   "execution_count": null,
   "metadata": {},
   "outputs": [],
   "source": [
    "# your code here\n"
   ]
  },
  {
   "attachments": {},
   "cell_type": "markdown",
   "metadata": {},
   "source": [
    "4.7: Create a boxplot of the depth of avalances by trigger"
   ]
  },
  {
   "cell_type": "code",
   "execution_count": null,
   "metadata": {},
   "outputs": [],
   "source": [
    "# your code here"
   ]
  },
  {
   "attachments": {},
   "cell_type": "markdown",
   "metadata": {},
   "source": [
    "# Part 5: Analysis – What did we learn?\n",
    "Please answer the following questions in (brief) writing.\n",
    "\n",
    "- What does the distribution of avalanche depths and elevations look like? \n",
    "- What year had the most avalanches? How many?\n",
    "- What month had the most avalanches? How many?\n",
    "- What month gets the highest elevation avalanches? How many feet, on average?\n",
    "- What is the most common avalanche trigger?\n",
    "- What avalanche trigger yields the deepest avalanches? How many inches deep, on average?"
   ]
  },
  {
   "cell_type": "markdown",
   "metadata": {},
   "source": [
    "Your Answer Here!\n"
   ]
  },
  {
   "cell_type": "markdown",
   "metadata": {},
   "source": [
    "# Part 6: Bonus – Are Avalanches with Fatalities Different?\n",
    "\n",
    "Compare avalanches without and with fatalities using visualziations. Are there any differences you notice?#"
   ]
  },
  {
   "cell_type": "markdown",
   "metadata": {},
   "source": [
    "# Grading Scheme\n",
    "\n",
    "Part 1: 5%  \n",
    "Part 2: 15%  \n",
    "Part 3: 25%  \n",
    "Part 4: 40%, 5% per sub-itme  \n",
    "Part 5: 15%  \n",
    "Part 6 (Bonus): 10%  "
   ]
  }
 ],
 "metadata": {
  "__persist_keys_record": [
   "__GENERATED_DATAFRAMES__",
   "__persist_nb_uuid__"
  ],
  "__persist_nb_uuid__": "4450a9e0-6a93-4311-a347-5a7652d3cbf3",
  "kernelspec": {
   "display_name": "Python 3 (ipykernel)",
   "language": "python",
   "name": "python3"
  },
  "language_info": {
   "codemirror_mode": {
    "name": "ipython",
    "version": 3
   },
   "file_extension": ".py",
   "mimetype": "text/x-python",
   "name": "python",
   "nbconvert_exporter": "python",
   "pygments_lexer": "ipython3",
   "version": "3.12.4"
  }
 },
 "nbformat": 4,
 "nbformat_minor": 4
}
