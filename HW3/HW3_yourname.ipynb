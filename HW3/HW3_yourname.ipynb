{
 "cells": [
  {
   "cell_type": "markdown",
   "metadata": {},
   "source": [
    "# Applied Data Visualization – Homework 3\n",
    "*https://www.dataviscourse.net/2024-applied/*\n",
    "\n",
    "\n",
    "In this homework we will create tabular custom charts in Matplotlib and Seaborn. \n",
    "\n"
   ]
  },
  {
   "cell_type": "markdown",
   "metadata": {},
   "source": [
    "## Your Info and Submission Instructions\n",
    "\n",
    "* *First name:*\n",
    "* *Last name:*\n",
    "* *Email:*\n",
    "* *UID:*\n",
    "\n",
    "\n",
    "\n",
    "For your submission, please do the following things: \n",
    "* **rename the file to `hw3_lastname.ipynb`**\n",
    "* **include all files that you need to run the homework, including the data file provided** \n",
    "* **don't use absolute paths, but use a relative path to the same directory for referencing data**"
   ]
  },
  {
   "cell_type": "code",
   "execution_count": 6,
   "metadata": {},
   "outputs": [],
   "source": [
    "import pandas as pd\n",
    "import numpy as np\n",
    "import matplotlib.pyplot as plt\n",
    "\n",
    "# Useful for this homework\n",
    "from matplotlib.patches import Rectangle\n",
    "from matplotlib.lines import Line2D\n",
    "\n",
    "plt.style.use('default')\n",
    "# This next line tells jupyter to render the images inline\n",
    "%matplotlib inline\n",
    "import matplotlib_inline\n",
    "# This renders your figures as vector graphics AND gives you an option to download a PDF too\n",
    "matplotlib_inline.backend_inline.set_matplotlib_formats('svg', 'pdf')"
   ]
  },
  {
   "cell_type": "markdown",
   "metadata": {},
   "source": [
    "# Part 1: Bubble Grid Chart\n",
    "\n",
    "For this assignment, we will use a historical data set of medals awarded in Winter Olympics. Recreate the chart below using Matplotlib with the following requirements:\n",
    "\n",
    "- Each `Discipline` bubble and label should be colored according to the `Sport` variable. You can pick your own colors, as long as they are discernable.\n",
    "- Each bubble's size should depend on the number of gold medals awarded. (This can be calculated as the number of unique `Event`-`Gender` pairs in the data set.)\n",
    "- There should be a label noting that 1940 and 1944 Olympic games were not held (due to World War II).\n",
    "\n",
    "![A bubble grid chart of medals for winter olympics](medals.svg)\n",
    "\n",
    "Hints you may find useful for this assignment:\n",
    "- matplotlib's `.patch.Rectangle` and `.add_patch()` for the label box\n",
    "- matplotlib's `.get_yticklabels()`, `.get_text()`, and `.set_color()` to color the y-axis labels"
   ]
  },
  {
   "cell_type": "code",
   "execution_count": 2,
   "metadata": {},
   "outputs": [],
   "source": [
    "# Keep this cell\n",
    "medals_df = pd.read_csv('./winter.csv')\n",
    "\n",
    "\n",
    "# your code here"
   ]
  },
  {
   "cell_type": "markdown",
   "metadata": {},
   "source": [
    "# Part 2: Parallel Coordinates\n",
    "\n",
    "We're back to the familiar Utah Avalanche Center data set for this assignment. Recreate the parallel coordinates chart below using Matplotlib, given the following requirements:\n",
    "\n",
    "- Subset the data to avalanches caused by skiers in Salt Lake between 2015 and today.\n",
    "- Highlight (e.g., with another color) avalanches with casualties (i.e. anyone injured, killed, or buried).\n",
    "- Add a custom legend explaining the highlighting.\n",
    "- Each axis should range from the minimum to the maximum value of the corresponding variable in the data.\n",
    "\n",
    "![A parralel coordinates plot of avalance data with fatalities highlighted.](pc.svg)\n",
    "\n",
    "Hints you may find useful:\n",
    "- Drop rows that have NaN values in the columns you want to plot.\n",
    "- Matplotlib's `.twinx()` function is useful to create subfigures that share the same x-axis.\n",
    "- Note that the ranges of variables are very different. For the lines to fit onto the same chart, all variables should be *normalized* to the range of one variable (for example, if you choose the leftmost variable---year---to be the reference, all other variables should be normalized to range between 2015 and 2023).\n",
    "- Make sure you first draw the axes, and only then normalize variables to the reference, and then draw.\n",
    "- You may find it useful to loop over all observations (rows) and `.plot()` each line individually.\n",
    "- Note that since we are plotting each line individually, matplotlib will not generate a legend. Refer to [the documentation](https://matplotlib.org/stable/gallery/text_labels_and_annotations/custom_legends.html. ) for guidance on how to create a custom legend."
   ]
  },
  {
   "cell_type": "code",
   "execution_count": 3,
   "metadata": {},
   "outputs": [],
   "source": [
    "# Keep this cell\n",
    "\n",
    "avy_df = pd.read_csv('./avalanches.csv')\n",
    "\n",
    "# Clean dates and elevation\n",
    "avy_df['Date'] = pd.to_datetime(avy_df['Date'])\n",
    "avy_df['Year'] = avy_df['Date'].dt.year.astype('Int64')\n",
    "avy_df['Month'] = avy_df['Date'].dt.month.astype('Int64')\n",
    "avy_df['Elevation_Feet'] = pd.to_numeric(avy_df['Elevation'].str.replace('\\'', '').str.replace(',', ''))\n",
    "avy_df['Width_Feet'] = pd.to_numeric(avy_df['Width'].str.replace('\\'', '').str.replace(',', ''))\n",
    "avy_df['Vertical_Feet'] = pd.to_numeric(avy_df['Vertical'].str.replace('\\'', '').str.replace(',', ''))\n",
    "\n",
    "def CleanInchesFeet(x):\n",
    "\n",
    "    if x!=x: return x\n",
    "\n",
    "    number = pd.to_numeric(x[:-1].replace(',', ''))\n",
    "    unit = x[-1]\n",
    "\n",
    "    if unit == '\\\"':\n",
    "        return number\n",
    "    elif unit == '\\'':\n",
    "        return number*12\n",
    "    else:\n",
    "        return float('NaN')\n",
    "    \n",
    "avy_df['Depth_Inches'] = avy_df['Depth'].map(lambda x: CleanInchesFeet(x))\n",
    "\n",
    "# Filter out null dates and incomplete years\n",
    "avy_df = avy_df[avy_df['Date']==avy_df['Date']]\n",
    "avy_df = avy_df[avy_df['Year'] > 2015]"
   ]
  },
  {
   "cell_type": "code",
   "execution_count": 4,
   "metadata": {},
   "outputs": [],
   "source": [
    "# your code here"
   ]
  },
  {
   "cell_type": "markdown",
   "metadata": {},
   "source": [
    "## Part 3: Scatterplot Matrix\n",
    "\n",
    "Use seaborn to show a scaterplott matrix of the data you used in Part 2. Make the dots transparent to see which areas are heavily overplotted. \n",
    "\n",
    "Hints: \n",
    " * this is one line of code.\n",
    " * showing a histogram in the diagonals (instead of a KDE plot) gets around a bug that occurs when using a KDE plot with this dataset"
   ]
  },
  {
   "cell_type": "code",
   "execution_count": 5,
   "metadata": {},
   "outputs": [],
   "source": [
    "import seaborn as sns\n",
    "\n",
    "# your code here"
   ]
  },
  {
   "cell_type": "markdown",
   "metadata": {},
   "source": [
    "## Part 4: Analysis and Comparison\n",
    "\n",
    "* Analyze the data; under which conditions do casualties occur?\n",
    "* Compare the scatterplot matrix with the PCP plot. Do you see different patterns in the visualization for this datasets? What are the strengths and weaknesses of each plot? \n",
    "  "
   ]
  },
  {
   "cell_type": "markdown",
   "metadata": {},
   "source": [
    "# Grading Scheme\n",
    "\n",
    "Part 1: 40%  \n",
    "Part 2: 40%  \n",
    "Part 3: 10%  \n",
    "Part 4: 10%"
   ]
  }
 ],
 "metadata": {
  "kernelspec": {
   "display_name": "base",
   "language": "python",
   "name": "python3"
  },
  "language_info": {
   "codemirror_mode": {
    "name": "ipython",
    "version": 3
   },
   "file_extension": ".py",
   "mimetype": "text/x-python",
   "name": "python",
   "nbconvert_exporter": "python",
   "pygments_lexer": "ipython3",
   "version": "3.12.4"
  },
  "orig_nbformat": 4
 },
 "nbformat": 4,
 "nbformat_minor": 2
}
