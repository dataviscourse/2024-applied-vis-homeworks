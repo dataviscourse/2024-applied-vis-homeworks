{
 "cells": [
  {
   "cell_type": "markdown",
   "metadata": {},
   "source": [
    "# Applied Data Visualization – Homework 5\n",
    "*https://www.dataviscourse.net/2024-applied/*\n",
    "\n",
    "\n",
    "In this homework we will create charts using Vega-Altair. \n",
    "\n"
   ]
  },
  {
   "cell_type": "markdown",
   "metadata": {},
   "source": [
    "## Your Info and Submission Instructions\n",
    "\n",
    "* *First name:*\n",
    "* *Last name:*\n",
    "* *Email:*\n",
    "* *UID:*\n",
    "\n",
    "\n",
    "\n",
    "For your submission, please do the following things: \n",
    "* **rename the file to `HW5_lastname.ipynb`**\n",
    "* **include all files that you need to run the homework, including the data file provided** \n",
    "* **don't use absolute paths, but usea relative path to the same directory for referencing data**"
   ]
  },
  {
   "cell_type": "code",
   "execution_count": null,
   "metadata": {},
   "outputs": [],
   "source": [
    "import pandas as pd\n",
    "import numpy as np\n",
    "import matplotlib.pyplot as plt\n",
    "\n",
    "# Need for this homework\n",
    "import altair as alt\n",
    "\n",
    "plt.style.use('default')\n",
    "# This next line tells jupyter to render the images inline\n",
    "%matplotlib inline\n",
    "import matplotlib_inline\n",
    "# This renders your figures as vector graphics AND gives you an option to download a PDF too\n",
    "matplotlib_inline.backend_inline.set_matplotlib_formats('svg', 'pdf')"
   ]
  },
  {
   "cell_type": "markdown",
   "metadata": {},
   "source": [
    "# Part 1: Avalanche Calendar\n",
    "\n",
    "In this assignment, we will create an interactive visualization using Vega-Altair that has two linked views:\n",
    "1. A calendar-like heatmap (day x month) of average number of avalanches by date, and\n",
    "2. A bar chart of total avalanche count by year.\n",
    "\n",
    "Chart requirements:\n",
    " - The bar chart should display the counts across all dates by default, but should be filtered to only the selected date (or dates) by clicking on the heatmap. \n",
    " - When hovering over a date, a tooltip should appear with the date and the value (average number of avalanches on that date).\n",
    "\n",
    "See the video below for an example of interaction:\n",
    "\n",
    "![An example of output interactivity](calendar_example.gif)\n",
    "\n",
    "Hints:\n",
    "- Similar to HW 2, you will need to create a data set with *all valid dates*, not only those that appear in the data. We need to account for zeros!\n",
    "- Highly recommend browsing the Vega-Altair example gallery for help: https://altair-viz.github.io/gallery/index.html"
   ]
  },
  {
   "cell_type": "code",
   "execution_count": 91,
   "metadata": {},
   "outputs": [],
   "source": [
    "# Read in data\n",
    "avy_df = pd.read_csv('./avalanches.csv')\n",
    "\n",
    "# Convert dates to the correct format\n",
    "avy_df['Date'] = pd.to_datetime(avy_df['Date'])\n",
    "\n",
    "# Filter out 2009, it's incomplete\n",
    "avy_df['Year'] = avy_df['Date'].dt.year.astype('Int64')\n",
    "avy_df = avy_df[avy_df['Year']>2009]"
   ]
  },
  {
   "cell_type": "code",
   "execution_count": 1,
   "metadata": {},
   "outputs": [],
   "source": [
    "# your code here"
   ]
  },
  {
   "cell_type": "markdown",
   "metadata": {},
   "source": [
    "# Part 2: Bubble Chart, Revisited\n",
    "\n",
    "For this assignment we are recreating the Bubble Chart from Homework 3 but this time using exclusively Vega-Altair. \n",
    "\n",
    "A refresher on the requirements:\n",
    "- Each `Discipline` bubble and label should be colored according to the `Sport` variable. You can pick your own colors, as long as they are discernable.\n",
    "- Each bubble's size should depend on the number of gold medals awarded. (This can be calculated as the number of unique `Event`-`Gender` pairs in the data set.)\n",
    "- There should be a label noting that 1940 and 1944 Olympic games were not held (due to World War II).\n",
    "\n",
    "Plus additional requirement:\n",
    "- When hovering over a bubble, a tooltip with all the underlying data should appear.\n",
    "\n",
    "![A bubble grid chart of medals for winter olympics](bubble_chart.svg)\n",
    "\n",
    "We are giving you the code necessary to prepare the data set, since you have done that already for HW3. This is primarily an exercise in precise formatting using Vega-Altair.\n",
    "\n",
    "Hints:\n",
    "- Notice that we converted the `Year` variable to a datetime. Think about how you can leverage that in your encoding.\n",
    "- There is a variety of ways to create an annotation box. One way to do it is to create a \"dummy\" DataFrame that you use to `.encode()` your `.mark_rect()` and `.mark_text()`. Another could be to use the `alt.datum()` command (see https://altair-viz.github.io/user_guide/encodings/index.html#datum-and-value).\n",
    "- Check out `.mark_rect()` properties here: https://altair-viz.github.io/user_guide/marks/rect.html\n",
    "- Again recommending the Vega-Altair example gallery for help: https://altair-viz.github.io/gallery/index.html"
   ]
  },
  {
   "cell_type": "code",
   "execution_count": 301,
   "metadata": {},
   "outputs": [],
   "source": [
    "medals_df = pd.read_csv('./winter.csv')\n",
    "\n",
    "# Convert Year to a datetime\n",
    "medals_df['Year'] = medals_df['Year'].apply(lambda x: pd.to_datetime(f\"{x}-01-01\"))\n",
    "\n",
    "# Concatenate Gender & Event to get unique gender/event variable\n",
    "medals_df['Gender_Event'] = medals_df['Gender'] + medals_df['Event']\n",
    "\n",
    "# Count the number of unique events in every year-discipline\n",
    "medals_df_grouped = (\n",
    "    medals_df\n",
    "    .groupby(['Year', 'City', 'Sport', 'Discipline', 'Country', 'Medal'])\n",
    "    .agg(Count = ('Gender_Event', 'nunique'))\n",
    "    .reset_index()\n",
    ")"
   ]
  },
  {
   "cell_type": "code",
   "execution_count": 2,
   "metadata": {},
   "outputs": [],
   "source": [
    "# your code here"
   ]
  },
  {
   "cell_type": "markdown",
   "metadata": {},
   "source": [
    "# Bonus: Bubble Chart Interactivity\n",
    "\n",
    "For bonus points, add any non-trivial interactivity to the Bubble Chart from Part 2. See our second Altair lecture for inspiration.\n",
    "\n",
    "Options include brushing with another linked view, a widget that modifies chart's appearance, a widget that filters the underlying data, etc."
   ]
  },
  {
   "cell_type": "markdown",
   "metadata": {},
   "source": [
    "# Grading Scheme\n",
    "\n",
    "* Part 1: 5 points\n",
    "* Part 2: 5 points\n",
    "* Bonus: 2 points"
   ]
  }
 ],
 "metadata": {
  "kernelspec": {
   "display_name": "base",
   "language": "python",
   "name": "python3"
  },
  "language_info": {
   "codemirror_mode": {
    "name": "ipython",
    "version": 3
   },
   "file_extension": ".py",
   "mimetype": "text/x-python",
   "name": "python",
   "nbconvert_exporter": "python",
   "pygments_lexer": "ipython3",
   "version": "3.11.4"
  }
 },
 "nbformat": 4,
 "nbformat_minor": 2
}
