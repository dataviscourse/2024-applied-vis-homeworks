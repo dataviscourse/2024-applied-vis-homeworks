{
 "cells": [
  {
   "cell_type": "markdown",
   "metadata": {},
   "source": [
    "# Applied Data Visualization – Homework 2\n",
    "*https://www.dataviscourse.net/2024-applied/*\n",
    "\n",
    "\n",
    "In this homework we will further explore the avalanche data by creating custom charts in Matplotlib. \n",
    "\n",
    "**Note that you may only use Matplotlib for this homework; no other charting libraries like Seaborn!**"
   ]
  },
  {
   "cell_type": "markdown",
   "metadata": {},
   "source": [
    "## Your Info and Submission Instructions\n",
    "\n",
    "* *First name:*\n",
    "* *Last name:*\n",
    "* *Email:*\n",
    "* *UID:*\n",
    "\n",
    "\n",
    "\n",
    "For your submission, please do the following things: \n",
    "* **rename the file to `hw2_lastname.pynb`**\n",
    "* **include all files that you need to run the homework, including the data file provided** \n",
    "* **don't use absolute paths, but use a relative path to the same directory for referencing data**"
   ]
  },
  {
   "cell_type": "code",
   "execution_count": 1,
   "metadata": {},
   "outputs": [],
   "source": [
    "import pandas as pd\n",
    "import numpy as np\n",
    "import matplotlib.pyplot as plt\n",
    "import datetime\n",
    "\n",
    "\n",
    "plt.style.use('default')\n",
    "# This next line tells jupyter to render the images inline\n",
    "%matplotlib inline\n",
    "import matplotlib_inline\n",
    "# This renders your figures as vector graphics AND gives you an option to download a PDF too\n",
    "matplotlib_inline.backend_inline.set_matplotlib_formats('svg', 'pdf')"
   ]
  },
  {
   "cell_type": "markdown",
   "metadata": {},
   "source": [
    "## Read & Clean up the Data\n",
    "\n",
    "You've already done data cleanup in the previous homework, so we'll provide this for you. "
   ]
  },
  {
   "cell_type": "code",
   "execution_count": 2,
   "metadata": {},
   "outputs": [],
   "source": [
    "avy_df = pd.read_csv('./avalanches.csv')\n",
    "\n",
    "# Clean dates and elevation\n",
    "avy_df['Date'] = pd.to_datetime(avy_df['Date'])\n",
    "avy_df['Year'] = avy_df['Date'].dt.year.astype('Int64')\n",
    "avy_df['Month'] = avy_df['Date'].dt.month.astype('Int64')\n",
    "avy_df['Elevation_Feet'] = pd.to_numeric(avy_df['Elevation'].str.replace('\\'', '').str.replace(',', ''))\n",
    "\n",
    "# Filter out null dates and incomplete years\n",
    "avy_df = avy_df[avy_df['Date']==avy_df['Date']]\n",
    "avy_df = avy_df[avy_df['Year'] > 2009]"
   ]
  },
  {
   "cell_type": "markdown",
   "metadata": {},
   "source": [
    "# Part 1: Violin Plot Per Region\n",
    "\n",
    "* Create a horizontal violin plot of distributions of avalanche elevations by Region.  \n",
    "* Sort the regions by the median avalanche elevation in a descending order. \n",
    "* Plot the mean on the violing plot. \n",
    "* Create lables for the regions that also show the number of avalances in the region. For example: \"Salt Lake (3654)\"\n",
    "* Analyze the data. What are trends you see? \n",
    "\n",
    "Hints: \n",
    "* you'll need to create a series of elevation values for each region \n",
    "* Matplotlib violinplots don't like NAN values, make sure to drop them before you try to plot\n",
    "\n",
    "You can choose your own aesthetics, but make sure it looks good. \n",
    "\n",
    "For your reference, here is our solution: \n",
    "\n",
    "![Example](violinplot.svg)"
   ]
  },
  {
   "cell_type": "code",
   "execution_count": 3,
   "metadata": {},
   "outputs": [],
   "source": [
    "# your code here\n"
   ]
  },
  {
   "cell_type": "markdown",
   "metadata": {},
   "source": [
    "### Your Analysis: \n",
    "\n"
   ]
  },
  {
   "cell_type": "markdown",
   "metadata": {},
   "source": [
    "# Part 2: Radial Bar Chart"
   ]
  },
  {
   "cell_type": "markdown",
   "metadata": {},
   "source": [
    "* Create a radial bar chart of the average number of avalanches in a year by Aspect.\n",
    "* Arrange the aspects in the usual convention (North at the top, West on the left, etc.).\n",
    "* Color the barchart using a cyclic colormap (e.g., HSV).\n",
    "* Provide an analysis.\n",
    "\n",
    "Hints: \n",
    "* Here is some useful reading: [https://matplotlib.org/stable/api/projections/polar.html](https://matplotlib.org/stable/api/projections/polar.html)\n",
    "\n",
    "Here is our solution: \n",
    "\n",
    "![A radial visualization of avalanches per aspect](radial.svg)"
   ]
  },
  {
   "cell_type": "code",
   "execution_count": 4,
   "metadata": {},
   "outputs": [],
   "source": [
    "# your code here\n"
   ]
  },
  {
   "cell_type": "markdown",
   "metadata": {},
   "source": [
    "### Your Analysis: \n"
   ]
  },
  {
   "cell_type": "markdown",
   "metadata": {},
   "source": [
    "# Part 3: Rolling average area subplots"
   ]
  },
  {
   "cell_type": "markdown",
   "metadata": {},
   "source": [
    "* Create a chart where each subfigure is an area chart of the 7-day rolling average of the number of avalanches in a given ski season. Assume that a \"ski season\" starts July 1 and ends June 31.\n",
    "* The subplots should overlap so that outliers are less of a problem.\n",
    "* Provide an analysis of the data. \n",
    "\n",
    "Useful methods to consider: \n",
    "- Pandas's `.rolling()`\n",
    "- matplotlib's `.fill_between()`, `.set_axis_off()`, `.tight_layout()`\n",
    "- datetime's `.timetuple().tm_yday`\n",
    "\n",
    "Make sure to check out the arguments of the above methods.\n",
    "\n",
    "Here's how your result should look: \n",
    "\n",
    "![A series of line charts showing avalanches over time](line.svg)"
   ]
  },
  {
   "cell_type": "code",
   "execution_count": 5,
   "metadata": {},
   "outputs": [],
   "source": [
    "# your code here\n"
   ]
  },
  {
   "cell_type": "markdown",
   "metadata": {},
   "source": [
    "### Your Analysis: \n"
   ]
  },
  {
   "cell_type": "markdown",
   "metadata": {},
   "source": []
  }
 ],
 "metadata": {
  "kernelspec": {
   "display_name": "base",
   "language": "python",
   "name": "python3"
  },
  "language_info": {
   "codemirror_mode": {
    "name": "ipython",
    "version": 3
   },
   "file_extension": ".py",
   "mimetype": "text/x-python",
   "name": "python",
   "nbconvert_exporter": "python",
   "pygments_lexer": "ipython3",
   "version": "3.12.4"
  },
  "orig_nbformat": 4
 },
 "nbformat": 4,
 "nbformat_minor": 2
}
