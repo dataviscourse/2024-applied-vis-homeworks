{
 "cells": [
  {
   "cell_type": "markdown",
   "metadata": {},
   "source": [
    "# Applied Data Visualization – Homework 4\n",
    "*https://www.dataviscourse.net/2024-applied/*\n",
    "\n",
    "\n",
    "In this homework we will create custom maps using GeoPandas and Contextily. "
   ]
  },
  {
   "cell_type": "markdown",
   "metadata": {},
   "source": [
    "## Your Info and Submission Instructions\n",
    "\n",
    "* *First name:*\n",
    "* *Last name:*\n",
    "* *Email:*\n",
    "* *UID:*\n",
    "\n",
    "\n",
    "\n",
    "For your submission, please do the following things: \n",
    "* **rename the file to `hw4_lastname.ipynb`**\n",
    "* **include all files that you need to run the homework, including the data file provided** \n",
    "* **don't use absolute paths, but use a relative path to the same directory for referencing data**"
   ]
  },
  {
   "cell_type": "markdown",
   "metadata": {},
   "source": [
    "## Dependencies\n",
    "\n",
    "You will need to install the geopandas and the contextily package for this homework. If you're using our recommended python setup using Anaconda, the following commands will install these for you: \n",
    "\n",
    "`conda install -c conda-forge geopandas`  \n",
    "`conda install contextily --channel conda-forge`   \n",
    "`conda install fiona --channel conda-forge`  \n",
    "\n",
    "You can also install these packages via the anaconda navigator, but you'll first have to add the `conda-forge` channel. That channel contains a larger set of more experimental packages. "
   ]
  },
  {
   "cell_type": "code",
   "execution_count": 1,
   "metadata": {},
   "outputs": [],
   "source": [
    "import pandas as pd\n",
    "import numpy as np\n",
    "import matplotlib.pyplot as plt\n",
    "\n",
    "# Need for this homework\n",
    "import geopandas as gpd\n",
    "import contextily as cx\n",
    "\n",
    "plt.style.use('default')\n",
    "# This next line tells jupyter to render the images inline\n",
    "%matplotlib inline\n",
    "import matplotlib_inline\n",
    "# This renders your figures as vector graphics AND gives you an option to download a PDF too\n",
    "matplotlib_inline.backend_inline.set_matplotlib_formats('svg', 'pdf')"
   ]
  },
  {
   "cell_type": "markdown",
   "metadata": {},
   "source": [
    "# Part 1: Avalanche Map\n",
    "\n",
    "By this point you are very familiar with the Utah Avalanche Center data set and have answered many questions based on the data. But where do avalanches happen, exactly? Thankfully the data set also includes latitude and longitude values. We can use those to plot the exact locations on a map.\n",
    "\n",
    "Create 2 maps: \n",
    "1. one with a **topographic-style streetmap** and just the avalanche locations marked in a contrasting color, and\n",
    "2. one with a **neutral-style streetmap** and avalanche locations colored by the `Region` variable from the data set.\n",
    "\n",
    "Hints:\n",
    "- There are a couple of outlier data points clearly entered by error. Filter out all observations that are *not* in the bounding box of 36 & 42 degrees of latitude and -114 & -108 degrees of longitude.\n",
    "- Map providers we used in the example are the `OpenTopoMap` and `CartoDB.Positron` but feel free to use any other similar types (see Contextily documentation [here](https://contextily.readthedocs.io/en/latest/providers_deepdive.html))."
   ]
  },
  {
   "cell_type": "markdown",
   "metadata": {},
   "source": [
    "Your result should look somewhat like this: \n",
    "\n",
    "![Two maps of Utah showing locations of avalanches.](avalanche_map.svg)"
   ]
  },
  {
   "cell_type": "code",
   "execution_count": 2,
   "metadata": {},
   "outputs": [],
   "source": [
    "# Read in data\n",
    "avy_df = pd.read_csv('./avalanches.csv')\n",
    "\n",
    "### your code here"
   ]
  },
  {
   "cell_type": "markdown",
   "metadata": {},
   "source": [
    "### Analysis\n",
    "\n",
    "What are the pros and cons of the two maps you created?"
   ]
  },
  {
   "cell_type": "markdown",
   "metadata": {},
   "source": [
    "# Part 2: World Map Choropleth\n",
    "\n",
    "Use the [IMF Climate Change data](https://climatedata.imf.org/pages/climatechange-data) provided in the `Annual_Surface_Temperature_Change.csv` file to make a choropleth map of the world, with each country colored by their latest observations (`F2022` variable). We provided a JSON file `world.json` with country geometries.\n",
    "\n",
    "Hints:\n",
    "- Our map is using the Robinson projection (`ESRI:54030`).\n",
    "- You will need to `.merge()` the IMF DataFrame with the polygons GeoDataFrame.\n",
    "- Make sure to use a diverging colormap centered at zero degrees. One way to center it is to set symmetric `vmin` and `vmax` parameters in GeoPandas's `.plot()` method.\n",
    "\n",
    "Here's what your result should look like: \n",
    "\n",
    "![A choropleth map of tempurature changes across the world.](temperatures.svg)"
   ]
  },
  {
   "cell_type": "code",
   "execution_count": 3,
   "metadata": {},
   "outputs": [],
   "source": [
    "# Read in geometries\n",
    "world = gpd.read_file('./world.json')\n",
    "\n",
    "# Read in IMF data\n",
    "imf_df = pd.read_csv('./Annual_Surface_Temperature_Change.csv')\n",
    "\n",
    "### your code here"
   ]
  },
  {
   "cell_type": "markdown",
   "metadata": {},
   "source": [
    "## Bonus: Interactive Avalance Map\n",
    "\n",
    "As you saw, there are a lot of avalanches in small regions. For this bonus question, create an interactive, zoomable version of the avalance map. \n",
    "\n",
    "Full credit here will require a nice design and implementation. "
   ]
  },
  {
   "cell_type": "markdown",
   "metadata": {},
   "source": [
    "# Grading Scheme\n",
    "\n",
    "* Part 1: 5 points\n",
    "* Part 2: 5 points\n",
    "* Part 3: 2 points"
   ]
  },
  {
   "cell_type": "markdown",
   "metadata": {},
   "source": []
  }
 ],
 "metadata": {
  "kernelspec": {
   "display_name": "base",
   "language": "python",
   "name": "python3"
  },
  "language_info": {
   "codemirror_mode": {
    "name": "ipython",
    "version": 3
   },
   "file_extension": ".py",
   "mimetype": "text/x-python",
   "name": "python",
   "nbconvert_exporter": "python",
   "pygments_lexer": "ipython3",
   "version": "3.12.4"
  },
  "orig_nbformat": 4
 },
 "nbformat": 4,
 "nbformat_minor": 2
}
